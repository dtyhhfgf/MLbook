{
  "cells": [
    {
      "cell_type": "markdown",
      "metadata": {
        "id": "view-in-github",
        "colab_type": "text"
      },
      "source": [
        "<a href=\"https://colab.research.google.com/github/dtyhhfgf/MLbook/blob/master/hometask/sem1.ipynb\" target=\"_parent\"><img src=\"https://colab.research.google.com/assets/colab-badge.svg\" alt=\"Open In Colab\"/></a>"
      ]
    },
    {
      "cell_type": "markdown",
      "metadata": {
        "id": "SWpzzBKX5lab"
      },
      "source": [
        "# Библиотеки"
      ]
    },
    {
      "cell_type": "code",
      "execution_count": 1,
      "metadata": {
        "id": "DVElVx3w5lag"
      },
      "outputs": [],
      "source": [
        "from zlib import crc32\n",
        "\n",
        "import numpy as np\n",
        "import pandas as pd\n",
        "import scipy.stats as st\n",
        "from collections import Counter"
      ]
    },
    {
      "cell_type": "markdown",
      "metadata": {
        "id": "W10bESh65lah"
      },
      "source": [
        "# Код генерации выборки"
      ]
    },
    {
      "cell_type": "code",
      "execution_count": 2,
      "metadata": {
        "id": "-dRusc3I5lai"
      },
      "outputs": [],
      "source": [
        "import re\n",
        "EMAIL_REGEX = re.compile(r\"[^@]+@phystech.edu\")\n",
        "\n",
        "def generate_dataset(code):\n",
        "    rs = np.random.RandomState(code)\n",
        "    full_data = np.concatenate(\n",
        "        [\n",
        "            rs.randint(low=0, high=251, size=5000),\n",
        "            rs.randint(low=-250, high=0, size=5000)\n",
        "        ]\n",
        "    )\n",
        "\n",
        "    mode_cnt = st.mode(full_data)[1]\n",
        "    counts = Counter(full_data.tolist())\n",
        "\n",
        "    to_add = []\n",
        "    for i in range(rs.randint(low = 1, high = 5)):\n",
        "        obj_to_add = int(rs.randint(low=-250, high=251, size=1))\n",
        "        to_add += [obj_to_add for _ in range(0, int(mode_cnt - counts.get(obj_to_add, 0)))]\n",
        "\n",
        "    full_data = np.concatenate([full_data, to_add])\n",
        "    rs.shuffle(full_data)\n",
        "    return np.array(full_data)"
      ]
    },
    {
      "cell_type": "markdown",
      "metadata": {
        "id": "LXkXPYIz5laj"
      },
      "source": [
        "# Генерация выборки для вашей почты\n",
        "\n",
        "<span style=\"color:red\">\n",
        "    ВАЖНО!\n",
        "    Почта, которую укажете ниже и почта с которой Вы отправляете домашнее задание должна совпадать!\n",
        "    В момент проверки задания алгоритм генерирует выборку на основе почты из анкеты!\n",
        "</span>\n",
        "\n",
        "Внимательно проверьте почту для которой выполняется задание!"
      ]
    },
    {
      "cell_type": "code",
      "execution_count": 69,
      "metadata": {
        "id": "h8bMsPHy5laj",
        "outputId": "eb27d312-06b5-481a-eecd-5141900f2c1a",
        "colab": {
          "base_uri": "https://localhost:8080/"
        }
      },
      "outputs": [
        {
          "name": "stdout",
          "output_type": "stream",
          "text": [
            "Enter your mail: fateev.ia@phystech.edu\n"
          ]
        },
        {
          "output_type": "stream",
          "name": "stderr",
          "text": [
            "<ipython-input-2-e3535dd6b45c>:18: DeprecationWarning: Conversion of an array with ndim > 0 to a scalar is deprecated, and will error in future. Ensure you extract a single element from your array before performing this operation. (Deprecated NumPy 1.25.)\n",
            "  obj_to_add = int(rs.randint(low=-250, high=251, size=1))\n"
          ]
        },
        {
          "output_type": "execute_result",
          "data": {
            "text/plain": [
              "{'mail': 'fateev.ia@phystech.edu',\n",
              " 'id': 727320091,\n",
              " 'data': array([  21, -101,  117, ...,   86,  154, -250])}"
            ]
          },
          "metadata": {},
          "execution_count": 69
        }
      ],
      "source": [
        "task = dict()\n",
        "task['mail'] = input(prompt='Enter your mail: ')\n",
        "assert EMAIL_REGEX.match(task['mail']), 'Not a mail in the phystech.edu domain'\n",
        "task['id'] = crc32(task['mail'].encode('utf-8'))\n",
        "task['data'] = generate_dataset(task['id'])\n",
        "\n",
        "task"
      ]
    },
    {
      "cell_type": "markdown",
      "metadata": {
        "id": "WprDKyMv5lak"
      },
      "source": [
        "# Работа с выборкой"
      ]
    },
    {
      "cell_type": "code",
      "execution_count": 70,
      "metadata": {
        "id": "ZHQaq3RJ5lal"
      },
      "outputs": [],
      "source": [
        "data = task['data']"
      ]
    },
    {
      "cell_type": "markdown",
      "source": [
        "## Среднее"
      ],
      "metadata": {
        "id": "0fAnRfaYm7-e"
      }
    },
    {
      "cell_type": "code",
      "execution_count": 71,
      "metadata": {
        "id": "y3U23VKk5lal",
        "outputId": "a8c650d1-5bfc-4299-f1cb-9f5dee5a5bec",
        "colab": {
          "base_uri": "https://localhost:8080/"
        }
      },
      "outputs": [
        {
          "output_type": "stream",
          "name": "stdout",
          "text": [
            "mean=-0.5505718547986077\n"
          ]
        }
      ],
      "source": [
        "print('mean={}'.format(np.mean(data)))"
      ]
    },
    {
      "cell_type": "markdown",
      "source": [
        "## Медиана"
      ],
      "metadata": {
        "id": "gWov4G9anCsg"
      }
    },
    {
      "cell_type": "code",
      "source": [
        "print('median={}'.format(np.median(data)))"
      ],
      "metadata": {
        "id": "1Bjctcs9nFAQ",
        "outputId": "7fbd2bc1-d562-44d1-a45e-349128139776",
        "colab": {
          "base_uri": "https://localhost:8080/"
        }
      },
      "execution_count": 72,
      "outputs": [
        {
          "output_type": "stream",
          "name": "stdout",
          "text": [
            "median=0.0\n"
          ]
        }
      ]
    },
    {
      "cell_type": "markdown",
      "source": [
        "## Дисперсия (несмещенная оценка)"
      ],
      "metadata": {
        "id": "phScuV9znFfK"
      }
    },
    {
      "cell_type": "code",
      "source": [
        "print('std={}'.format(np.std(data, ddof=1)))"
      ],
      "metadata": {
        "id": "1TuORikNnJTh",
        "outputId": "541074da-48a3-408c-8626-5140f6397036",
        "colab": {
          "base_uri": "https://localhost:8080/"
        }
      },
      "execution_count": 73,
      "outputs": [
        {
          "output_type": "stream",
          "name": "stdout",
          "text": [
            "std=142.96722079491977\n"
          ]
        }
      ]
    },
    {
      "cell_type": "markdown",
      "source": [
        "## Мода (максимальная)"
      ],
      "metadata": {
        "id": "TLgppdpgnJv8"
      }
    },
    {
      "cell_type": "code",
      "source": [
        "print('mode={}'.format(st.mode(data).mode))"
      ],
      "metadata": {
        "id": "xCuDpfV8nLoM",
        "outputId": "8aef5669-cd07-427c-e8db-4d51596136ea",
        "colab": {
          "base_uri": "https://localhost:8080/"
        }
      },
      "execution_count": 74,
      "outputs": [
        {
          "output_type": "stream",
          "name": "stdout",
          "text": [
            "mode=-132\n"
          ]
        }
      ]
    },
    {
      "cell_type": "markdown",
      "source": [
        "## Число мод"
      ],
      "metadata": {
        "id": "bbXfzbY4nMAh"
      }
    },
    {
      "cell_type": "code",
      "source": [
        "print('mode={}'.format(st.mode(data).count))"
      ],
      "metadata": {
        "id": "KQ8cSyEBnNtC",
        "outputId": "72f7e3f5-e03a-4c4e-f4ee-26b5685498e7",
        "colab": {
          "base_uri": "https://localhost:8080/"
        }
      },
      "execution_count": 108,
      "outputs": [
        {
          "output_type": "stream",
          "name": "stdout",
          "text": [
            "mode=32\n"
          ]
        }
      ]
    },
    {
      "cell_type": "markdown",
      "source": [
        "## Порядковая статистика с номером 42"
      ],
      "metadata": {
        "id": "OCSUIo2YnOLG"
      }
    },
    {
      "cell_type": "code",
      "source": [
        "print('The k-th order statistic is:', np.partition(np.asarray(data), 42)[42])"
      ],
      "metadata": {
        "id": "PVj68V9inQKc",
        "outputId": "e8b575ac-47db-4aaa-faea-881f90a95660",
        "colab": {
          "base_uri": "https://localhost:8080/"
        }
      },
      "execution_count": 106,
      "outputs": [
        {
          "output_type": "stream",
          "name": "stdout",
          "text": [
            "The k-th order statistic is: -248\n"
          ]
        }
      ]
    },
    {
      "cell_type": "markdown",
      "source": [
        "## Медиана для неотрицательных"
      ],
      "metadata": {
        "id": "JJWuGUtEnQa4"
      }
    },
    {
      "cell_type": "code",
      "source": [
        "print('median_non_negative={}'.format(np.median(data[data>=0])))"
      ],
      "metadata": {
        "id": "Hv3kQsgFnSHt",
        "outputId": "5316ff68-56cc-4061-941c-65f6ffb295e8",
        "colab": {
          "base_uri": "https://localhost:8080/"
        }
      },
      "execution_count": 107,
      "outputs": [
        {
          "output_type": "stream",
          "name": "stdout",
          "text": [
            "median_non_negative=121.0\n"
          ]
        }
      ]
    }
  ],
  "metadata": {
    "colab": {
      "name": "sem1.ipynb",
      "provenance": [],
      "include_colab_link": true
    },
    "kernelspec": {
      "display_name": "Python 3",
      "language": "python",
      "name": "python3"
    },
    "language_info": {
      "codemirror_mode": {
        "name": "ipython",
        "version": 3
      },
      "file_extension": ".py",
      "mimetype": "text/x-python",
      "name": "python",
      "nbconvert_exporter": "python",
      "pygments_lexer": "ipython3",
      "version": "3.7.3"
    }
  },
  "nbformat": 4,
  "nbformat_minor": 0
}